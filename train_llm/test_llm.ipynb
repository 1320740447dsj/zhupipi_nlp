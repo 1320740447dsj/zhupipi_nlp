{
 "cells": [
  {
   "cell_type": "code",
   "execution_count": 1,
   "metadata": {},
   "outputs": [],
   "source": [
    "from transformers import AutoTokenizer, AutoModelForCausalLM, AutoConfig\n",
    "import torch\n",
    "from model import LLM\n",
    "from model_config import Config"
   ]
  },
  {
   "cell_type": "code",
   "execution_count": 19,
   "metadata": {},
   "outputs": [],
   "source": [
    "t = AutoTokenizer.from_pretrained(pretrained_model_name_or_path='./dsj_model/dpo-2-epoch')\n",
    "AutoConfig.register(\"small_model\", Config)\n",
    "AutoModelForCausalLM.register(Config, LLM)"
   ]
  },
  {
   "cell_type": "code",
   "execution_count": 20,
   "metadata": {},
   "outputs": [],
   "source": [
    "model = AutoModelForCausalLM.from_pretrained(pretrained_model_name_or_path='./dsj_model/dpo-2-epoch')"
   ]
  },
  {
   "cell_type": "code",
   "execution_count": 21,
   "metadata": {},
   "outputs": [
    {
     "name": "stdout",
     "output_type": "stream",
     "text": [
      "[1, 85, 91, 305, 71, 79, 201, 59, 81, 87, 223, 303, 71, 223, 67, 223, 74, 71, 78, 82, 72, 87, 78, 223, 67, 85, 85, 75, 305, 3922, 86, 2, 201, 1, 87, 85, 3707, 201, 301, 1837, 1557, 1490, 2, 201, 1, 67, 85, 85, 75, 305, 3922, 86, 201]\n"
     ]
    }
   ],
   "source": [
    "input_data = t.apply_chat_template([{'role':'user', 'content':'人为什么不能飞'}])\n",
    "print(input_data)"
   ]
  },
  {
   "cell_type": "code",
   "execution_count": 22,
   "metadata": {},
   "outputs": [
    {
     "name": "stdout",
     "output_type": "stream",
     "text": [
      "人不能飞的原因在于它们的身体结构和生理机能。人体的骨骼、肌肉、肌肉和神经系统都与地球上的物体有很大的不同，这些差异导致了它们在飞行时的姿势和飞行能力。以下是几个关键点解释了为什么人不能飞：\n",
      "\n",
      "1. **身体结构**：人体的骨骼、肌肉和肌肉系统与地球上的物体有很大的不同。例如，人体的骨骼通常比身体的骨骼更轻，而人体的骨骼则更重。\n",
      "\n",
      "2. **生理机能**：人体的骨骼和肌肉系统与地球上的物体有很大的不同。例如，人体的骨骼通常比身体的骨骼更轻，而人体的骨骼则更重。\n",
      "\n",
      "3. **飞行能力**：飞行能力是飞行的直接结果。人体的骨骼和肌肉系统与地球上的物体有很大的不同，这使得它们在飞行时需要更多的能量来克服重力。\n",
      "\n",
      "4. **飞行能力**：虽然人体的骨骼和肌肉系统与地球上的物体有很大的不同，但它们都需要通过复杂的飞行来实现飞行。例如，人体的骨骼和肌肉系统与地球上的物体有很大的不同，这使得它们在飞行时需要更多的能量来克服重力。\n",
      "\n",
      "5. **飞行能力**：虽然人体的骨骼和肌肉系统与地球上的物体有很大的不同，但它们都需要通过复杂的飞行来实现飞行。例如，人体的骨骼和肌肉系统与地球上的物体有很大的不同，这使得它们在飞行时需要更多的能量来克服重力。\n",
      "\n",
      "因此，尽管人体的骨骼和肌肉系统与地球上的物体有很大的不同，但它们都需要通过复杂的飞行来实现飞行。\n"
     ]
    }
   ],
   "source": [
    "for token in model.generate({\"input_ids\":torch.tensor(input_data).unsqueeze(0), \"labels\":None}, t.eos_token_id, 500, stream=False,temperature=0.0, top_k=8):\n",
    "    print(t.decode(token[0]))"
   ]
  },
  {
   "cell_type": "code",
   "execution_count": null,
   "metadata": {},
   "outputs": [],
   "source": []
  }
 ],
 "metadata": {
  "kernelspec": {
   "display_name": "hug",
   "language": "python",
   "name": "python3"
  },
  "language_info": {
   "codemirror_mode": {
    "name": "ipython",
    "version": 3
   },
   "file_extension": ".py",
   "mimetype": "text/x-python",
   "name": "python",
   "nbconvert_exporter": "python",
   "pygments_lexer": "ipython3",
   "version": "3.10.0"
  }
 },
 "nbformat": 4,
 "nbformat_minor": 2
}
