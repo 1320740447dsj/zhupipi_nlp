{
 "cells": [
  {
   "cell_type": "code",
   "execution_count": 6,
   "metadata": {},
   "outputs": [],
   "source": [
    "from transformers import AutoTokenizer, AutoModelForCausalLM, AutoConfig\n",
    "import torch\n",
    "from step_22_train_moe_model_sft import  LLM, Config"
   ]
  },
  {
   "cell_type": "code",
   "execution_count": 8,
   "metadata": {},
   "outputs": [],
   "source": [
    "t = AutoTokenizer.from_pretrained(pretrained_model_name_or_path='./dsj_model/moe-sft')\n",
    "AutoConfig.register(\"moe_model\", Config)\n",
    "AutoModelForCausalLM.register(Config, LLM)"
   ]
  },
  {
   "cell_type": "code",
   "execution_count": 9,
   "metadata": {},
   "outputs": [],
   "source": [
    "model = AutoModelForCausalLM.from_pretrained(pretrained_model_name_or_path='./dsj_model/moe-sft')"
   ]
  },
  {
   "cell_type": "code",
   "execution_count": 10,
   "metadata": {},
   "outputs": [
    {
     "name": "stdout",
     "output_type": "stream",
     "text": [
      "[1, 85, 91, 305, 71, 79, 201, 59, 81, 87, 223, 303, 71, 223, 67, 223, 74, 71, 78, 82, 72, 87, 78, 223, 67, 85, 85, 75, 305, 3922, 86, 2, 201, 1, 87, 85, 3707, 201, 301, 1837, 1557, 1490, 2, 201, 1, 67, 85, 85, 75, 305, 3922, 86, 201]\n"
     ]
    }
   ],
   "source": [
    "input_data = t.apply_chat_template([{'role':'user', 'content':'人为什么不能飞'}])\n",
    "print(input_data)"
   ]
  },
  {
   "cell_type": "code",
   "execution_count": 11,
   "metadata": {},
   "outputs": [
    {
     "name": "stdout",
     "output_type": "stream",
     "text": [
      "人不能飞的原因主要与物理学中的“能量守恒定律”相关。能量守恒定律指出，在一个封闭系统中，能量既不能被创造也不能被消灭，只能从一种形式转换为另一种形式。在没有外部能量输入或输出的情况下，能量的总量是守恒的。\n",
      "\n",
      "当人试图飞起来时，实际上是在利用能量的转换和传递。在物理学中，能量可以以多种形式存在，包括动能、势能、热能、电能等。当人试图飞起来时，实际上是在利用这些能量的转换和传递，但这并不意味着他们不能飞起来。\n",
      "\n",
      "因此，人不能飞的原因在于，如果人试图飞起来，那么他们将无法获得足够的能量来维持生命活动，包括维持身体的能量平衡和进行其他活动。在没有外部能量输入的情况下，人无法飞行。\n"
     ]
    }
   ],
   "source": [
    "for token in model.generate({\"input_ids\":torch.tensor(input_data).unsqueeze(0), \"labels\":None}, t.eos_token_id, 500, stream=False,temperature=0.0, top_k=8):\n",
    "    print(t.decode(token[0]))"
   ]
  },
  {
   "cell_type": "code",
   "execution_count": null,
   "metadata": {},
   "outputs": [],
   "source": []
  }
 ],
 "metadata": {
  "kernelspec": {
   "display_name": "hug",
   "language": "python",
   "name": "python3"
  },
  "language_info": {
   "codemirror_mode": {
    "name": "ipython",
    "version": 3
   },
   "file_extension": ".py",
   "mimetype": "text/x-python",
   "name": "python",
   "nbconvert_exporter": "python",
   "pygments_lexer": "ipython3",
   "version": "3.10.0"
  }
 },
 "nbformat": 4,
 "nbformat_minor": 2
}
